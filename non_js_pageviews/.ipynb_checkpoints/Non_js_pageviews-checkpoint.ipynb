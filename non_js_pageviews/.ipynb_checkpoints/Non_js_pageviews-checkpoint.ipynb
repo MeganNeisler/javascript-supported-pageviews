{
 "cells": [
  {
   "cell_type": "markdown",
   "metadata": {},
   "source": [
    "# Measure % of pageviews from browsers without javascript support\n",
    "\n",
    "[Task](https://phabricator.wikimedia.org/T253033)"
   ]
  },
  {
   "cell_type": "markdown",
   "metadata": {},
   "source": [
    "# Background\n",
    "\n",
    "As part of an ongoing discussion of support levels for different browser capabilities (https://www.mediawiki.org/wiki/Compatibility#Browsers), we want to know the percent of pageviews from users without JS support.\n",
    "\n",
    "Relevant background links:\n",
    "- https://www.mediawiki.org/wiki/Analytics/Reports/Clients_without_JavaScript\n",
    "- https://www.mediawiki.org/wiki/No-JavaScript_notes\n",
    "\n",
    "\n",
    "# Approach\n",
    "\n",
    "We used the compatibility table (https://www.mediawiki.org/wiki/Compatibility#General_information) to identify browsers for which we surface JS features (Grade A Browsers) vs. ones we do not (all below Grade A browsers).\n",
    "\n",
    "We then compared pageviews from Grade A browsers vs. pageviews from below Grade A browsers to estimate the percentage of pageviews where we actively provide Javascript support. \n",
    "\n",
    "Pageview data came from the [pageview_hourly](https://wikitech.wikimedia.org/wiki/Analytics/Data_Lake/Traffic/Pageview_hourly) table and the [browser_general](https://wikitech.wikimedia.org/wiki/Analytics/Data_Lake/Traffic/Browser_general) table.\n",
    "Results were split by desktop vs mobile web and views from all spider or automated traffic were removed. For this analysis, we reviewed the last week in May 24- May 30th.\n",
    "\n",
    "\n"
   ]
  },
  {
   "cell_type": "markdown",
   "metadata": {},
   "source": [
    "# Caveats\n",
    "\n",
    "- This does not include information for modern (grade A) browsers where users have turned off JS.\n",
    "- Pageviews and pageview percentages are different from devices, which is the most similar measure we have to \"users\".\n",
    "- Data reflects traffic from browsers where we actively test and surface JS features.  Based on the information described on the [[ https://www.mediawiki.org/wiki/Compatibility#General_information | Compatability page ]], some below Grade A browsers may have JS functionality but we do not actively test or support these. \n",
    "- Data assumes that information in the Compatability Table is currently up to date."
   ]
  },
  {
   "cell_type": "markdown",
   "metadata": {},
   "source": [
    "# Identify Browsers "
   ]
  },
  {
   "cell_type": "markdown",
   "metadata": {},
   "source": [
    "Per the [compatibility table](https://www.mediawiki.org/wiki/Compatibility#General_information), there are three categories of browsers we support: Modern (Grade A), Basic (Grade C), and Unknown (Grade X).\n",
    "\n",
    "\"Grade A\" is real, actively tested JS support.\n",
    "\n",
    "\"Grade C\": Content is presented in a readable manner, and to some extent user actions can be performed, but these browsers do not get JavaScript features.  \n",
    "\n",
    "\"Grade X\": includes browsers that are no longer developed or browsers not popular enough to justify the added maintenance cost for software development. These browsers are given the full feature set, which means HTTP, HTML, CSS and JS feature may or may not be compatible with these browsers.\n",
    "\n",
    "The following browsers are categorized as Modern (Grade A) Browsers, where we actively test and support JS. \n",
    "- Chrome (Current and previous version) [1]. \n",
    "- Firefox (Current and previous version). \n",
    "- Opera (Current and previous version). Note: Opera mini has a lot of fragementation across OS\n",
    "- Edge (Current and previous version) \n",
    "- Internet Explorer 11+\n",
    "- Safari 5.1+\n",
    "- iOS 6.1+ (Mobile Safari 6.0+)\n",
    "- Android 4.1+\n",
    "\n",
    "The Web team at the Wikimedia Foundation applies a narrower support matrix for mobile-specific skins. The [Compatibility page](https://www.mediawiki.org/wiki/Compatibility#Mobile) currently states that where browser usage is over 5% a modern experience (Grade A) is supported. I compliled the list of mobile web Grade A Browsers based on the data provided by the [analytics user agent breakdown dashboard](https://analytics.wikimedia.org/dashboards/browsers/#mobile-site-by-browser/browser-family-and-major-hierarchical-view). \n",
    "\n",
    "1. For this analysis, I used current and previous versions as of the last week of May for this analysis: May 24 to May 30.\n"
   ]
  },
  {
   "cell_type": "markdown",
   "metadata": {},
   "source": [
    "# Collect Pageview Data "
   ]
  },
  {
   "cell_type": "code",
   "execution_count": 4,
   "metadata": {},
   "outputs": [],
   "source": [
    "shhh <- function(expr) suppressPackageStartupMessages(suppressWarnings(suppressMessages(expr)))\n",
    "shhh({\n",
    "    library(tidyverse)\n",
    "})"
   ]
  },
  {
   "cell_type": "code",
   "execution_count": 1,
   "metadata": {},
   "outputs": [],
   "source": [
    "#pageviews by browser and project using the pageview_hourly table\n",
    "\n",
    "query <- \"\n",
    "\n",
    "SELECT \n",
    "    access_method,\n",
    "    project,\n",
    "    CONCAT(user_agent_map['browser_family'], '-', user_agent_map['browser_major']) AS browser,\n",
    "    sum(view_count) AS pageviews\n",
    "FROM wmf.pageview_hourly\n",
    "WHERE \n",
    "    agent_type = 'user' AND\n",
    "    access_method IN ('desktop', 'mobile web') AND\n",
    "    CONCAT(year, '-', LPAD(month, 2, '0'), '-', LPAD(day, 2, '0')) > '2020-05-23' AND\n",
    "    CONCAT(year, '-', LPAD(month, 2, '0'), '-', LPAD(day, 2, '0')) < '2020-05-31'\n",
    "GROUP BY \n",
    "    access_method, \n",
    "    project,\n",
    "    CONCAT(user_agent_map['browser_family'], '-', user_agent_map['browser_major'])\n",
    "\"\n"
   ]
  },
  {
   "cell_type": "code",
   "execution_count": 2,
   "metadata": {},
   "outputs": [],
   "source": [
    "pageviews_bybrowser <- wmf::query_hive(query)"
   ]
  },
  {
   "cell_type": "markdown",
   "metadata": {},
   "source": [
    "As a QA check, I reviewed top viewed browsers that week. We'd expect most pageviews to come from Grade A Browsers. "
   ]
  },
  {
   "cell_type": "code",
   "execution_count": 58,
   "metadata": {},
   "outputs": [],
   "source": [
    "desktop_browsers <- pageviews_bybrowser %>%\n",
    "    filter(access_method == 'desktop') %>%\n",
    "    group_by(access_method, browser)%>%\n",
    "    summarise(pageviews = sum(as.numeric(pageviews)))%>%\n",
    "    group_by(access_method) %>%\n",
    "    mutate(total_pageviews_byaccess = sum(as.numeric(pageviews)),\n",
    "           pct_pageviews = pageviews/total_pageviews_byaccess *100) %>%\n",
    "    #filter(str_detect(browser, \"^iOS\")) %>%\n",
    "    arrange(desc(pct_pageviews))"
   ]
  },
  {
   "cell_type": "code",
   "execution_count": 59,
   "metadata": {},
   "outputs": [
    {
     "data": {
      "text/html": [
       "<table>\n",
       "<caption>A grouped_df: 10 × 5</caption>\n",
       "<thead>\n",
       "\t<tr><th scope=col>access_method</th><th scope=col>browser</th><th scope=col>pageviews</th><th scope=col>total_pageviews_byaccess</th><th scope=col>pct_pageviews</th></tr>\n",
       "\t<tr><th scope=col>&lt;chr&gt;</th><th scope=col>&lt;chr&gt;</th><th scope=col>&lt;dbl&gt;</th><th scope=col>&lt;dbl&gt;</th><th scope=col>&lt;dbl&gt;</th></tr>\n",
       "</thead>\n",
       "<tbody>\n",
       "\t<tr><td>desktop</td><td>Chrome-81 </td><td>411550012</td><td>1480458858</td><td>27.798815</td></tr>\n",
       "\t<tr><td>desktop</td><td>Chrome-83 </td><td>344803380</td><td>1480458858</td><td>23.290305</td></tr>\n",
       "\t<tr><td>desktop</td><td>Firefox-76</td><td>180483510</td><td>1480458858</td><td>12.191052</td></tr>\n",
       "\t<tr><td>desktop</td><td>Safari-13 </td><td>121217471</td><td>1480458858</td><td> 8.187831</td></tr>\n",
       "\t<tr><td>desktop</td><td>Edge-18   </td><td> 65709670</td><td>1480458858</td><td> 4.438466</td></tr>\n",
       "\t<tr><td>desktop</td><td>IE-11     </td><td> 56265534</td><td>1480458858</td><td> 3.800547</td></tr>\n",
       "\t<tr><td>desktop</td><td>Opera-68  </td><td> 32362144</td><td>1480458858</td><td> 2.185954</td></tr>\n",
       "\t<tr><td>desktop</td><td>Chrome-70 </td><td> 24621263</td><td>1480458858</td><td> 1.663083</td></tr>\n",
       "\t<tr><td>desktop</td><td>Chrome-80 </td><td> 17767492</td><td>1480458858</td><td> 1.200134</td></tr>\n",
       "\t<tr><td>desktop</td><td>Edge-83   </td><td> 16594528</td><td>1480458858</td><td> 1.120904</td></tr>\n",
       "</tbody>\n",
       "</table>\n"
      ],
      "text/latex": [
       "A grouped\\_df: 10 × 5\n",
       "\\begin{tabular}{lllll}\n",
       " access\\_method & browser & pageviews & total\\_pageviews\\_byaccess & pct\\_pageviews\\\\\n",
       " <chr> & <chr> & <dbl> & <dbl> & <dbl>\\\\\n",
       "\\hline\n",
       "\t desktop & Chrome-81  & 411550012 & 1480458858 & 27.798815\\\\\n",
       "\t desktop & Chrome-83  & 344803380 & 1480458858 & 23.290305\\\\\n",
       "\t desktop & Firefox-76 & 180483510 & 1480458858 & 12.191052\\\\\n",
       "\t desktop & Safari-13  & 121217471 & 1480458858 &  8.187831\\\\\n",
       "\t desktop & Edge-18    &  65709670 & 1480458858 &  4.438466\\\\\n",
       "\t desktop & IE-11      &  56265534 & 1480458858 &  3.800547\\\\\n",
       "\t desktop & Opera-68   &  32362144 & 1480458858 &  2.185954\\\\\n",
       "\t desktop & Chrome-70  &  24621263 & 1480458858 &  1.663083\\\\\n",
       "\t desktop & Chrome-80  &  17767492 & 1480458858 &  1.200134\\\\\n",
       "\t desktop & Edge-83    &  16594528 & 1480458858 &  1.120904\\\\\n",
       "\\end{tabular}\n"
      ],
      "text/markdown": [
       "\n",
       "A grouped_df: 10 × 5\n",
       "\n",
       "| access_method &lt;chr&gt; | browser &lt;chr&gt; | pageviews &lt;dbl&gt; | total_pageviews_byaccess &lt;dbl&gt; | pct_pageviews &lt;dbl&gt; |\n",
       "|---|---|---|---|---|\n",
       "| desktop | Chrome-81  | 411550012 | 1480458858 | 27.798815 |\n",
       "| desktop | Chrome-83  | 344803380 | 1480458858 | 23.290305 |\n",
       "| desktop | Firefox-76 | 180483510 | 1480458858 | 12.191052 |\n",
       "| desktop | Safari-13  | 121217471 | 1480458858 |  8.187831 |\n",
       "| desktop | Edge-18    |  65709670 | 1480458858 |  4.438466 |\n",
       "| desktop | IE-11      |  56265534 | 1480458858 |  3.800547 |\n",
       "| desktop | Opera-68   |  32362144 | 1480458858 |  2.185954 |\n",
       "| desktop | Chrome-70  |  24621263 | 1480458858 |  1.663083 |\n",
       "| desktop | Chrome-80  |  17767492 | 1480458858 |  1.200134 |\n",
       "| desktop | Edge-83    |  16594528 | 1480458858 |  1.120904 |\n",
       "\n"
      ],
      "text/plain": [
       "   access_method browser    pageviews total_pageviews_byaccess pct_pageviews\n",
       "1  desktop       Chrome-81  411550012 1480458858               27.798815    \n",
       "2  desktop       Chrome-83  344803380 1480458858               23.290305    \n",
       "3  desktop       Firefox-76 180483510 1480458858               12.191052    \n",
       "4  desktop       Safari-13  121217471 1480458858                8.187831    \n",
       "5  desktop       Edge-18     65709670 1480458858                4.438466    \n",
       "6  desktop       IE-11       56265534 1480458858                3.800547    \n",
       "7  desktop       Opera-68    32362144 1480458858                2.185954    \n",
       "8  desktop       Chrome-70   24621263 1480458858                1.663083    \n",
       "9  desktop       Chrome-80   17767492 1480458858                1.200134    \n",
       "10 desktop       Edge-83     16594528 1480458858                1.120904    "
      ]
     },
     "metadata": {},
     "output_type": "display_data"
    }
   ],
   "source": [
    "head(desktop_browsers, 10)"
   ]
  },
  {
   "cell_type": "markdown",
   "metadata": {},
   "source": [
    "The top-viewed desktop browsers mostly match the browsers identified in the compatability table. There are a several older versions of Chrome (Chrome 70, Chrome 80, and Chrome 77) that accounted for over 1 percent of all pageviews during the reviewed time period and are not considered Grade A. "
   ]
  },
  {
   "cell_type": "code",
   "execution_count": 56,
   "metadata": {},
   "outputs": [],
   "source": [
    "#QA - review top viewed browsers. We'd expect most pageviews to come from Grade A Browsers.\n",
    "mobileweb_browsers <- pageviews_bybrowser %>%\n",
    "    filter(access_method == 'mobile web') %>%\n",
    "    group_by(access_method, browser)%>%\n",
    "    summarise(pageviews = sum(as.numeric(pageviews)))%>%\n",
    "    group_by(access_method) %>%\n",
    "    mutate(total_pageviews_byaccess = sum(as.numeric(pageviews)),\n",
    "           pct_pageviews = pageviews/total_pageviews_byaccess *100) %>%\n",
    "    #filter(str_detect(browser, \"^Android\")) %>%\n",
    "    arrange(desc(pct_pageviews))"
   ]
  },
  {
   "cell_type": "code",
   "execution_count": 57,
   "metadata": {},
   "outputs": [
    {
     "data": {
      "text/html": [
       "<table>\n",
       "<caption>A grouped_df: 10 × 5</caption>\n",
       "<thead>\n",
       "\t<tr><th scope=col>access_method</th><th scope=col>browser</th><th scope=col>pageviews</th><th scope=col>total_pageviews_byaccess</th><th scope=col>pct_pageviews</th></tr>\n",
       "\t<tr><th scope=col>&lt;chr&gt;</th><th scope=col>&lt;chr&gt;</th><th scope=col>&lt;dbl&gt;</th><th scope=col>&lt;dbl&gt;</th><th scope=col>&lt;dbl&gt;</th></tr>\n",
       "</thead>\n",
       "<tbody>\n",
       "\t<tr><td>mobile web</td><td>Mobile Safari-13    </td><td>675927676</td><td>2392161190</td><td>28.255942</td></tr>\n",
       "\t<tr><td>mobile web</td><td>Chrome Mobile-81    </td><td>652385864</td><td>2392161190</td><td>27.271819</td></tr>\n",
       "\t<tr><td>mobile web</td><td>Chrome Mobile-83    </td><td>152459098</td><td>2392161190</td><td> 6.373279</td></tr>\n",
       "\t<tr><td>mobile web</td><td>Samsung Internet-11 </td><td>101881948</td><td>2392161190</td><td> 4.258992</td></tr>\n",
       "\t<tr><td>mobile web</td><td>Mobile Safari-12    </td><td> 89236248</td><td>2392161190</td><td> 3.730361</td></tr>\n",
       "\t<tr><td>mobile web</td><td>Chrome Mobile-80    </td><td> 76516572</td><td>2392161190</td><td> 3.198638</td></tr>\n",
       "\t<tr><td>mobile web</td><td>Google-107          </td><td> 69719083</td><td>2392161190</td><td> 2.914481</td></tr>\n",
       "\t<tr><td>mobile web</td><td>Chrome Mobile iOS-81</td><td> 59087249</td><td>2392161190</td><td> 2.470036</td></tr>\n",
       "\t<tr><td>mobile web</td><td>Chrome Mobile-38    </td><td> 37895773</td><td>2392161190</td><td> 1.584165</td></tr>\n",
       "\t<tr><td>mobile web</td><td>Chrome-81           </td><td> 25334007</td><td>2392161190</td><td> 1.059043</td></tr>\n",
       "</tbody>\n",
       "</table>\n"
      ],
      "text/latex": [
       "A grouped\\_df: 10 × 5\n",
       "\\begin{tabular}{lllll}\n",
       " access\\_method & browser & pageviews & total\\_pageviews\\_byaccess & pct\\_pageviews\\\\\n",
       " <chr> & <chr> & <dbl> & <dbl> & <dbl>\\\\\n",
       "\\hline\n",
       "\t mobile web & Mobile Safari-13     & 675927676 & 2392161190 & 28.255942\\\\\n",
       "\t mobile web & Chrome Mobile-81     & 652385864 & 2392161190 & 27.271819\\\\\n",
       "\t mobile web & Chrome Mobile-83     & 152459098 & 2392161190 &  6.373279\\\\\n",
       "\t mobile web & Samsung Internet-11  & 101881948 & 2392161190 &  4.258992\\\\\n",
       "\t mobile web & Mobile Safari-12     &  89236248 & 2392161190 &  3.730361\\\\\n",
       "\t mobile web & Chrome Mobile-80     &  76516572 & 2392161190 &  3.198638\\\\\n",
       "\t mobile web & Google-107           &  69719083 & 2392161190 &  2.914481\\\\\n",
       "\t mobile web & Chrome Mobile iOS-81 &  59087249 & 2392161190 &  2.470036\\\\\n",
       "\t mobile web & Chrome Mobile-38     &  37895773 & 2392161190 &  1.584165\\\\\n",
       "\t mobile web & Chrome-81            &  25334007 & 2392161190 &  1.059043\\\\\n",
       "\\end{tabular}\n"
      ],
      "text/markdown": [
       "\n",
       "A grouped_df: 10 × 5\n",
       "\n",
       "| access_method &lt;chr&gt; | browser &lt;chr&gt; | pageviews &lt;dbl&gt; | total_pageviews_byaccess &lt;dbl&gt; | pct_pageviews &lt;dbl&gt; |\n",
       "|---|---|---|---|---|\n",
       "| mobile web | Mobile Safari-13     | 675927676 | 2392161190 | 28.255942 |\n",
       "| mobile web | Chrome Mobile-81     | 652385864 | 2392161190 | 27.271819 |\n",
       "| mobile web | Chrome Mobile-83     | 152459098 | 2392161190 |  6.373279 |\n",
       "| mobile web | Samsung Internet-11  | 101881948 | 2392161190 |  4.258992 |\n",
       "| mobile web | Mobile Safari-12     |  89236248 | 2392161190 |  3.730361 |\n",
       "| mobile web | Chrome Mobile-80     |  76516572 | 2392161190 |  3.198638 |\n",
       "| mobile web | Google-107           |  69719083 | 2392161190 |  2.914481 |\n",
       "| mobile web | Chrome Mobile iOS-81 |  59087249 | 2392161190 |  2.470036 |\n",
       "| mobile web | Chrome Mobile-38     |  37895773 | 2392161190 |  1.584165 |\n",
       "| mobile web | Chrome-81            |  25334007 | 2392161190 |  1.059043 |\n",
       "\n"
      ],
      "text/plain": [
       "   access_method browser              pageviews total_pageviews_byaccess\n",
       "1  mobile web    Mobile Safari-13     675927676 2392161190              \n",
       "2  mobile web    Chrome Mobile-81     652385864 2392161190              \n",
       "3  mobile web    Chrome Mobile-83     152459098 2392161190              \n",
       "4  mobile web    Samsung Internet-11  101881948 2392161190              \n",
       "5  mobile web    Mobile Safari-12      89236248 2392161190              \n",
       "6  mobile web    Chrome Mobile-80      76516572 2392161190              \n",
       "7  mobile web    Google-107            69719083 2392161190              \n",
       "8  mobile web    Chrome Mobile iOS-81  59087249 2392161190              \n",
       "9  mobile web    Chrome Mobile-38      37895773 2392161190              \n",
       "10 mobile web    Chrome-81             25334007 2392161190              \n",
       "   pct_pageviews\n",
       "1  28.255942    \n",
       "2  27.271819    \n",
       "3   6.373279    \n",
       "4   4.258992    \n",
       "5   3.730361    \n",
       "6   3.198638    \n",
       "7   2.914481    \n",
       "8   2.470036    \n",
       "9   1.584165    \n",
       "10  1.059043    "
      ]
     },
     "metadata": {},
     "output_type": "display_data"
    }
   ],
   "source": [
    "head(mobileweb_browsers, 10)"
   ]
  },
  {
   "cell_type": "markdown",
   "metadata": {},
   "source": [
    "Mobile Safari-13, Chrome Mobile-81, and Chrome Mobile-83 browers each accounted for over 5% of pageview traffic to mobile web and were included in the list of Grade A browsers for mobile specific skins. "
   ]
  },
  {
   "cell_type": "markdown",
   "metadata": {},
   "source": [
    "# Pageviews by Grade A (JS-Tested) And Below Grade A (Non-JS tested Browsers)"
   ]
  },
  {
   "cell_type": "code",
   "execution_count": 103,
   "metadata": {},
   "outputs": [],
   "source": [
    "#Compiled list of Grade A browsers identified using #https://www.mediawiki.org/wiki/Compatibility#General_information\n",
    "grade_A_browsers <- c('Firefox-75', 'Firefox-76', 'Firefox-77', 'Firefox-68',\n",
    "                      'Chrome-81', 'Chrome-83', 'Chrome Mobile-81', 'Chrome Mobile-83', \n",
    "                      'Opera-67', 'Opera-68', \n",
    "                     'Edge-18', 'Edge-17', 'Edge-83', 'Edge-81', \n",
    "                      'IE-11', \n",
    "                      'Safari-5', 'Safari-6','Safari-7', 'Safari-8', 'Safari-9', 'Safari-10', 'Safari-11', 'Safari-12', 'Safari-13',\n",
    "                     'Mobile Safari-13',  \n",
    "                    'Android-4', 'Android-5', 'Android-6', 'Android-7', 'Android-8', 'Android-9', 'Android-10'\n",
    "                     )\n"
   ]
  },
  {
   "cell_type": "code",
   "execution_count": 102,
   "metadata": {},
   "outputs": [
    {
     "data": {
      "text/html": [
       "<table>\n",
       "<caption>A grouped_df: 4 × 4</caption>\n",
       "<thead>\n",
       "\t<tr><th scope=col>access_method</th><th scope=col>category</th><th scope=col>views</th><th scope=col>pct_views</th></tr>\n",
       "\t<tr><th scope=col>&lt;chr&gt;</th><th scope=col>&lt;chr&gt;</th><th scope=col>&lt;dbl&gt;</th><th scope=col>&lt;dbl&gt;</th></tr>\n",
       "</thead>\n",
       "<tbody>\n",
       "\t<tr><td>desktop   </td><td>Below A</td><td> 204354230</td><td>13.80344</td></tr>\n",
       "\t<tr><td>desktop   </td><td>Grade A</td><td>1276104628</td><td>86.19656</td></tr>\n",
       "\t<tr><td>mobile web</td><td>Below A</td><td> 783498149</td><td>32.75273</td></tr>\n",
       "\t<tr><td>mobile web</td><td>Grade A</td><td>1608663041</td><td>67.24727</td></tr>\n",
       "</tbody>\n",
       "</table>\n"
      ],
      "text/latex": [
       "A grouped\\_df: 4 × 4\n",
       "\\begin{tabular}{llll}\n",
       " access\\_method & category & views & pct\\_views\\\\\n",
       " <chr> & <chr> & <dbl> & <dbl>\\\\\n",
       "\\hline\n",
       "\t desktop    & Below A &  204354230 & 13.80344\\\\\n",
       "\t desktop    & Grade A & 1276104628 & 86.19656\\\\\n",
       "\t mobile web & Below A &  783498149 & 32.75273\\\\\n",
       "\t mobile web & Grade A & 1608663041 & 67.24727\\\\\n",
       "\\end{tabular}\n"
      ],
      "text/markdown": [
       "\n",
       "A grouped_df: 4 × 4\n",
       "\n",
       "| access_method &lt;chr&gt; | category &lt;chr&gt; | views &lt;dbl&gt; | pct_views &lt;dbl&gt; |\n",
       "|---|---|---|---|\n",
       "| desktop    | Below A |  204354230 | 13.80344 |\n",
       "| desktop    | Grade A | 1276104628 | 86.19656 |\n",
       "| mobile web | Below A |  783498149 | 32.75273 |\n",
       "| mobile web | Grade A | 1608663041 | 67.24727 |\n",
       "\n"
      ],
      "text/plain": [
       "  access_method category views      pct_views\n",
       "1 desktop       Below A   204354230 13.80344 \n",
       "2 desktop       Grade A  1276104628 86.19656 \n",
       "3 mobile web    Below A   783498149 32.75273 \n",
       "4 mobile web    Grade A  1608663041 67.24727 "
      ]
     },
     "metadata": {},
     "output_type": "display_data"
    }
   ],
   "source": [
    "js_pageviews <- pageviews_bybrowser %>%\n",
    "    mutate(category = ifelse(browser %in% grade_A_browsers, \"Grade A\", \"Below A\")) %>%\n",
    "    group_by(access_method, category) %>%\n",
    "    summarize(views = sum(as.numeric(pageviews))) %>%\n",
    "    mutate(pct_views = views/sum(views) *100)\n",
    "    \n",
    "js_pageviews "
   ]
  },
  {
   "cell_type": "markdown",
   "metadata": {},
   "source": [
    "## Per Project Breakdown"
   ]
  },
  {
   "cell_type": "markdown",
   "metadata": {},
   "source": [
    "I reviewed the pageview traffic from Grade A browsers on a per project basis to determine if the percentages varied signficantly across different size projects. I limited the review to only wikipedia projects and desktop."
   ]
  },
  {
   "cell_type": "markdown",
   "metadata": {},
   "source": [
    "### Wikipedia projects with highest percent traffic from Grade A Browsers on desktop"
   ]
  },
  {
   "cell_type": "code",
   "execution_count": 99,
   "metadata": {},
   "outputs": [
    {
     "data": {
      "text/html": [
       "<table>\n",
       "<caption>A grouped_df: 20 × 6</caption>\n",
       "<thead>\n",
       "\t<tr><th scope=col>project</th><th scope=col>access_method</th><th scope=col>category</th><th scope=col>views</th><th scope=col>total_views</th><th scope=col>pct_views</th></tr>\n",
       "\t<tr><th scope=col>&lt;chr&gt;</th><th scope=col>&lt;chr&gt;</th><th scope=col>&lt;chr&gt;</th><th scope=col>&lt;dbl&gt;</th><th scope=col>&lt;dbl&gt;</th><th scope=col>&lt;dbl&gt;</th></tr>\n",
       "</thead>\n",
       "<tbody>\n",
       "\t<tr><td>ja.wikipedia </td><td>desktop</td><td>Grade A</td><td> 88524574</td><td> 94814195</td><td>93.36637</td></tr>\n",
       "\t<tr><td>pl.wikipedia </td><td>desktop</td><td>Grade A</td><td> 32415865</td><td> 35013400</td><td>92.58131</td></tr>\n",
       "\t<tr><td>hu.wikipedia </td><td>desktop</td><td>Grade A</td><td>  7451756</td><td>  8091159</td><td>92.09751</td></tr>\n",
       "\t<tr><td>pt.wikipedia </td><td>desktop</td><td>Grade A</td><td> 26579705</td><td> 28906963</td><td>91.94914</td></tr>\n",
       "\t<tr><td>es.wikipedia </td><td>desktop</td><td>Grade A</td><td> 95745216</td><td>104143204</td><td>91.93612</td></tr>\n",
       "\t<tr><td>it.wikipedia </td><td>desktop</td><td>Grade A</td><td> 41159164</td><td> 45003519</td><td>91.45766</td></tr>\n",
       "\t<tr><td>cs.wikipedia </td><td>desktop</td><td>Grade A</td><td> 10071694</td><td> 11104095</td><td>90.70252</td></tr>\n",
       "\t<tr><td>th.wikipedia </td><td>desktop</td><td>Grade A</td><td>  2789386</td><td>  3081545</td><td>90.51907</td></tr>\n",
       "\t<tr><td>fr.wikipedia </td><td>desktop</td><td>Grade A</td><td> 60713531</td><td> 67375607</td><td>90.11204</td></tr>\n",
       "\t<tr><td>de.wikipedia </td><td>desktop</td><td>Grade A</td><td> 87004955</td><td> 96614984</td><td>90.05327</td></tr>\n",
       "\t<tr><td>nl.wikipedia </td><td>desktop</td><td>Grade A</td><td> 13969608</td><td> 15524175</td><td>89.98615</td></tr>\n",
       "\t<tr><td>awa.wikipedia</td><td>desktop</td><td>Grade A</td><td>     1733</td><td>     1941</td><td>89.28387</td></tr>\n",
       "\t<tr><td>sk.wikipedia </td><td>desktop</td><td>Grade A</td><td>  2063287</td><td>  2314192</td><td>89.15799</td></tr>\n",
       "\t<tr><td>hr.wikipedia </td><td>desktop</td><td>Grade A</td><td>  2332315</td><td>  2640026</td><td>88.34440</td></tr>\n",
       "\t<tr><td>lt.wikipedia </td><td>desktop</td><td>Grade A</td><td>  1565233</td><td>  1771935</td><td>88.33467</td></tr>\n",
       "\t<tr><td>bg.wikipedia </td><td>desktop</td><td>Grade A</td><td>  2736395</td><td>  3106563</td><td>88.08432</td></tr>\n",
       "\t<tr><td>tr.wikipedia </td><td>desktop</td><td>Grade A</td><td>  6710330</td><td>  7665997</td><td>87.53369</td></tr>\n",
       "\t<tr><td>fi.wikipedia </td><td>desktop</td><td>Grade A</td><td>  4257541</td><td>  4879751</td><td>87.24914</td></tr>\n",
       "\t<tr><td>en.wikipedia </td><td>desktop</td><td>Grade A</td><td>576112251</td><td>664943441</td><td>86.64079</td></tr>\n",
       "\t<tr><td>sv.wikipedia </td><td>desktop</td><td>Grade A</td><td>  7029810</td><td>  8121342</td><td>86.55971</td></tr>\n",
       "</tbody>\n",
       "</table>\n"
      ],
      "text/latex": [
       "A grouped\\_df: 20 × 6\n",
       "\\begin{tabular}{llllll}\n",
       " project & access\\_method & category & views & total\\_views & pct\\_views\\\\\n",
       " <chr> & <chr> & <chr> & <dbl> & <dbl> & <dbl>\\\\\n",
       "\\hline\n",
       "\t ja.wikipedia  & desktop & Grade A &  88524574 &  94814195 & 93.36637\\\\\n",
       "\t pl.wikipedia  & desktop & Grade A &  32415865 &  35013400 & 92.58131\\\\\n",
       "\t hu.wikipedia  & desktop & Grade A &   7451756 &   8091159 & 92.09751\\\\\n",
       "\t pt.wikipedia  & desktop & Grade A &  26579705 &  28906963 & 91.94914\\\\\n",
       "\t es.wikipedia  & desktop & Grade A &  95745216 & 104143204 & 91.93612\\\\\n",
       "\t it.wikipedia  & desktop & Grade A &  41159164 &  45003519 & 91.45766\\\\\n",
       "\t cs.wikipedia  & desktop & Grade A &  10071694 &  11104095 & 90.70252\\\\\n",
       "\t th.wikipedia  & desktop & Grade A &   2789386 &   3081545 & 90.51907\\\\\n",
       "\t fr.wikipedia  & desktop & Grade A &  60713531 &  67375607 & 90.11204\\\\\n",
       "\t de.wikipedia  & desktop & Grade A &  87004955 &  96614984 & 90.05327\\\\\n",
       "\t nl.wikipedia  & desktop & Grade A &  13969608 &  15524175 & 89.98615\\\\\n",
       "\t awa.wikipedia & desktop & Grade A &      1733 &      1941 & 89.28387\\\\\n",
       "\t sk.wikipedia  & desktop & Grade A &   2063287 &   2314192 & 89.15799\\\\\n",
       "\t hr.wikipedia  & desktop & Grade A &   2332315 &   2640026 & 88.34440\\\\\n",
       "\t lt.wikipedia  & desktop & Grade A &   1565233 &   1771935 & 88.33467\\\\\n",
       "\t bg.wikipedia  & desktop & Grade A &   2736395 &   3106563 & 88.08432\\\\\n",
       "\t tr.wikipedia  & desktop & Grade A &   6710330 &   7665997 & 87.53369\\\\\n",
       "\t fi.wikipedia  & desktop & Grade A &   4257541 &   4879751 & 87.24914\\\\\n",
       "\t en.wikipedia  & desktop & Grade A & 576112251 & 664943441 & 86.64079\\\\\n",
       "\t sv.wikipedia  & desktop & Grade A &   7029810 &   8121342 & 86.55971\\\\\n",
       "\\end{tabular}\n"
      ],
      "text/markdown": [
       "\n",
       "A grouped_df: 20 × 6\n",
       "\n",
       "| project &lt;chr&gt; | access_method &lt;chr&gt; | category &lt;chr&gt; | views &lt;dbl&gt; | total_views &lt;dbl&gt; | pct_views &lt;dbl&gt; |\n",
       "|---|---|---|---|---|---|\n",
       "| ja.wikipedia  | desktop | Grade A |  88524574 |  94814195 | 93.36637 |\n",
       "| pl.wikipedia  | desktop | Grade A |  32415865 |  35013400 | 92.58131 |\n",
       "| hu.wikipedia  | desktop | Grade A |   7451756 |   8091159 | 92.09751 |\n",
       "| pt.wikipedia  | desktop | Grade A |  26579705 |  28906963 | 91.94914 |\n",
       "| es.wikipedia  | desktop | Grade A |  95745216 | 104143204 | 91.93612 |\n",
       "| it.wikipedia  | desktop | Grade A |  41159164 |  45003519 | 91.45766 |\n",
       "| cs.wikipedia  | desktop | Grade A |  10071694 |  11104095 | 90.70252 |\n",
       "| th.wikipedia  | desktop | Grade A |   2789386 |   3081545 | 90.51907 |\n",
       "| fr.wikipedia  | desktop | Grade A |  60713531 |  67375607 | 90.11204 |\n",
       "| de.wikipedia  | desktop | Grade A |  87004955 |  96614984 | 90.05327 |\n",
       "| nl.wikipedia  | desktop | Grade A |  13969608 |  15524175 | 89.98615 |\n",
       "| awa.wikipedia | desktop | Grade A |      1733 |      1941 | 89.28387 |\n",
       "| sk.wikipedia  | desktop | Grade A |   2063287 |   2314192 | 89.15799 |\n",
       "| hr.wikipedia  | desktop | Grade A |   2332315 |   2640026 | 88.34440 |\n",
       "| lt.wikipedia  | desktop | Grade A |   1565233 |   1771935 | 88.33467 |\n",
       "| bg.wikipedia  | desktop | Grade A |   2736395 |   3106563 | 88.08432 |\n",
       "| tr.wikipedia  | desktop | Grade A |   6710330 |   7665997 | 87.53369 |\n",
       "| fi.wikipedia  | desktop | Grade A |   4257541 |   4879751 | 87.24914 |\n",
       "| en.wikipedia  | desktop | Grade A | 576112251 | 664943441 | 86.64079 |\n",
       "| sv.wikipedia  | desktop | Grade A |   7029810 |   8121342 | 86.55971 |\n",
       "\n"
      ],
      "text/plain": [
       "   project       access_method category views     total_views pct_views\n",
       "1  ja.wikipedia  desktop       Grade A   88524574  94814195   93.36637 \n",
       "2  pl.wikipedia  desktop       Grade A   32415865  35013400   92.58131 \n",
       "3  hu.wikipedia  desktop       Grade A    7451756   8091159   92.09751 \n",
       "4  pt.wikipedia  desktop       Grade A   26579705  28906963   91.94914 \n",
       "5  es.wikipedia  desktop       Grade A   95745216 104143204   91.93612 \n",
       "6  it.wikipedia  desktop       Grade A   41159164  45003519   91.45766 \n",
       "7  cs.wikipedia  desktop       Grade A   10071694  11104095   90.70252 \n",
       "8  th.wikipedia  desktop       Grade A    2789386   3081545   90.51907 \n",
       "9  fr.wikipedia  desktop       Grade A   60713531  67375607   90.11204 \n",
       "10 de.wikipedia  desktop       Grade A   87004955  96614984   90.05327 \n",
       "11 nl.wikipedia  desktop       Grade A   13969608  15524175   89.98615 \n",
       "12 awa.wikipedia desktop       Grade A       1733      1941   89.28387 \n",
       "13 sk.wikipedia  desktop       Grade A    2063287   2314192   89.15799 \n",
       "14 hr.wikipedia  desktop       Grade A    2332315   2640026   88.34440 \n",
       "15 lt.wikipedia  desktop       Grade A    1565233   1771935   88.33467 \n",
       "16 bg.wikipedia  desktop       Grade A    2736395   3106563   88.08432 \n",
       "17 tr.wikipedia  desktop       Grade A    6710330   7665997   87.53369 \n",
       "18 fi.wikipedia  desktop       Grade A    4257541   4879751   87.24914 \n",
       "19 en.wikipedia  desktop       Grade A  576112251 664943441   86.64079 \n",
       "20 sv.wikipedia  desktop       Grade A    7029810   8121342   86.55971 "
      ]
     },
     "metadata": {},
     "output_type": "display_data"
    }
   ],
   "source": [
    "\n",
    "js_browsers_byproject_desktop <- pageviews_bybrowser %>%\n",
    "    filter(str_detect(project, \"wikipedia$\"),\n",
    "                     access_method == \"desktop\") %>% #look at only desktop and wikipedia\n",
    "    mutate(category = ifelse(browser %in% grade_A_browsers, \"Grade A\", \"Below_A\")) %>%\n",
    "    group_by(project, access_method, category) %>%\n",
    "    summarize(views = sum(as.numeric(pageviews))) %>%\n",
    "    group_by(project, access_method) %>%\n",
    "    mutate(total_views = sum(views),\n",
    "           pct_views = views/total_views *100) %>%\n",
    "    filter(category == 'Grade A') %>%\n",
    "    arrange(desc(pct_views))\n",
    "    \n",
    "head(js_browsers_byproject_desktop, 10)"
   ]
  },
  {
   "cell_type": "markdown",
   "metadata": {},
   "source": [
    "### Wikipedia projects with lowest percent traffic from Grade A Browsers on desktop"
   ]
  },
  {
   "cell_type": "code",
   "execution_count": 96,
   "metadata": {},
   "outputs": [
    {
     "data": {
      "text/html": [
       "<table>\n",
       "<caption>A grouped_df: 10 × 6</caption>\n",
       "<thead>\n",
       "\t<tr><th scope=col>project</th><th scope=col>access_method</th><th scope=col>category</th><th scope=col>views</th><th scope=col>total_views</th><th scope=col>pct_views</th></tr>\n",
       "\t<tr><th scope=col>&lt;chr&gt;</th><th scope=col>&lt;chr&gt;</th><th scope=col>&lt;chr&gt;</th><th scope=col>&lt;dbl&gt;</th><th scope=col>&lt;dbl&gt;</th><th scope=col>&lt;dbl&gt;</th></tr>\n",
       "</thead>\n",
       "<tbody>\n",
       "\t<tr><td>cdo.wikipedia       </td><td>desktop</td><td>Grade A</td><td> 4230</td><td> 32268</td><td>13.108962</td></tr>\n",
       "\t<tr><td>cv.wikipedia        </td><td>desktop</td><td>Grade A</td><td> 5808</td><td> 44383</td><td>13.086092</td></tr>\n",
       "\t<tr><td>yo.wikipedia        </td><td>desktop</td><td>Grade A</td><td> 4898</td><td> 37646</td><td>13.010678</td></tr>\n",
       "\t<tr><td>io.wikipedia        </td><td>desktop</td><td>Grade A</td><td> 6725</td><td> 51961</td><td>12.942399</td></tr>\n",
       "\t<tr><td>zh-min-nan.wikipedia</td><td>desktop</td><td>Grade A</td><td> 9313</td><td> 74025</td><td>12.580885</td></tr>\n",
       "\t<tr><td>gv.wikipedia        </td><td>desktop</td><td>Grade A</td><td> 3483</td><td> 27789</td><td>12.533736</td></tr>\n",
       "\t<tr><td>hak.wikipedia       </td><td>desktop</td><td>Grade A</td><td> 3818</td><td> 31050</td><td>12.296296</td></tr>\n",
       "\t<tr><td>azb.wikipedia       </td><td>desktop</td><td>Grade A</td><td>10441</td><td>103227</td><td>10.114602</td></tr>\n",
       "\t<tr><td>ten.wikipedia       </td><td>desktop</td><td>Grade A</td><td>   78</td><td>  1113</td><td> 7.008086</td></tr>\n",
       "\t<tr><td>ig.wikipedia        </td><td>desktop</td><td>Grade A</td><td> 2652</td><td> 45228</td><td> 5.863624</td></tr>\n",
       "</tbody>\n",
       "</table>\n"
      ],
      "text/latex": [
       "A grouped\\_df: 10 × 6\n",
       "\\begin{tabular}{llllll}\n",
       " project & access\\_method & category & views & total\\_views & pct\\_views\\\\\n",
       " <chr> & <chr> & <chr> & <dbl> & <dbl> & <dbl>\\\\\n",
       "\\hline\n",
       "\t cdo.wikipedia        & desktop & Grade A &  4230 &  32268 & 13.108962\\\\\n",
       "\t cv.wikipedia         & desktop & Grade A &  5808 &  44383 & 13.086092\\\\\n",
       "\t yo.wikipedia         & desktop & Grade A &  4898 &  37646 & 13.010678\\\\\n",
       "\t io.wikipedia         & desktop & Grade A &  6725 &  51961 & 12.942399\\\\\n",
       "\t zh-min-nan.wikipedia & desktop & Grade A &  9313 &  74025 & 12.580885\\\\\n",
       "\t gv.wikipedia         & desktop & Grade A &  3483 &  27789 & 12.533736\\\\\n",
       "\t hak.wikipedia        & desktop & Grade A &  3818 &  31050 & 12.296296\\\\\n",
       "\t azb.wikipedia        & desktop & Grade A & 10441 & 103227 & 10.114602\\\\\n",
       "\t ten.wikipedia        & desktop & Grade A &    78 &   1113 &  7.008086\\\\\n",
       "\t ig.wikipedia         & desktop & Grade A &  2652 &  45228 &  5.863624\\\\\n",
       "\\end{tabular}\n"
      ],
      "text/markdown": [
       "\n",
       "A grouped_df: 10 × 6\n",
       "\n",
       "| project &lt;chr&gt; | access_method &lt;chr&gt; | category &lt;chr&gt; | views &lt;dbl&gt; | total_views &lt;dbl&gt; | pct_views &lt;dbl&gt; |\n",
       "|---|---|---|---|---|---|\n",
       "| cdo.wikipedia        | desktop | Grade A |  4230 |  32268 | 13.108962 |\n",
       "| cv.wikipedia         | desktop | Grade A |  5808 |  44383 | 13.086092 |\n",
       "| yo.wikipedia         | desktop | Grade A |  4898 |  37646 | 13.010678 |\n",
       "| io.wikipedia         | desktop | Grade A |  6725 |  51961 | 12.942399 |\n",
       "| zh-min-nan.wikipedia | desktop | Grade A |  9313 |  74025 | 12.580885 |\n",
       "| gv.wikipedia         | desktop | Grade A |  3483 |  27789 | 12.533736 |\n",
       "| hak.wikipedia        | desktop | Grade A |  3818 |  31050 | 12.296296 |\n",
       "| azb.wikipedia        | desktop | Grade A | 10441 | 103227 | 10.114602 |\n",
       "| ten.wikipedia        | desktop | Grade A |    78 |   1113 |  7.008086 |\n",
       "| ig.wikipedia         | desktop | Grade A |  2652 |  45228 |  5.863624 |\n",
       "\n"
      ],
      "text/plain": [
       "   project              access_method category views total_views pct_views\n",
       "1  cdo.wikipedia        desktop       Grade A   4230  32268      13.108962\n",
       "2  cv.wikipedia         desktop       Grade A   5808  44383      13.086092\n",
       "3  yo.wikipedia         desktop       Grade A   4898  37646      13.010678\n",
       "4  io.wikipedia         desktop       Grade A   6725  51961      12.942399\n",
       "5  zh-min-nan.wikipedia desktop       Grade A   9313  74025      12.580885\n",
       "6  gv.wikipedia         desktop       Grade A   3483  27789      12.533736\n",
       "7  hak.wikipedia        desktop       Grade A   3818  31050      12.296296\n",
       "8  azb.wikipedia        desktop       Grade A  10441 103227      10.114602\n",
       "9  ten.wikipedia        desktop       Grade A     78   1113       7.008086\n",
       "10 ig.wikipedia         desktop       Grade A   2652  45228       5.863624"
      ]
     },
     "metadata": {},
     "output_type": "display_data"
    }
   ],
   "source": [
    "tail(js_browsers_byproject_desktop, 10)"
   ]
  },
  {
   "cell_type": "markdown",
   "metadata": {},
   "source": [
    "Larger-sized projects had a higher percentage of traffic from Grade A Browsers with around 86 to 93 percent of desktop pageviews coming from Grade A Browsers. Japanese Wikipedia had the highest percentage (93.4%) of overall desktop pageviews coming from Grade A Browsers. "
   ]
  },
  {
   "cell_type": "markdown",
   "metadata": {},
   "source": [
    "### Wikipedia projects with highest percent traffic from Grade A Browsers on mobile web"
   ]
  },
  {
   "cell_type": "code",
   "execution_count": 94,
   "metadata": {},
   "outputs": [
    {
     "data": {
      "text/html": [
       "<table>\n",
       "<caption>A grouped_df: 10 × 6</caption>\n",
       "<thead>\n",
       "\t<tr><th scope=col>project</th><th scope=col>access_method</th><th scope=col>category</th><th scope=col>views</th><th scope=col>total_views</th><th scope=col>pct_views</th></tr>\n",
       "\t<tr><th scope=col>&lt;chr&gt;</th><th scope=col>&lt;chr&gt;</th><th scope=col>&lt;chr&gt;</th><th scope=col>&lt;dbl&gt;</th><th scope=col>&lt;dbl&gt;</th><th scope=col>&lt;dbl&gt;</th></tr>\n",
       "</thead>\n",
       "<tbody>\n",
       "\t<tr><td>sk.wikipedia</td><td>mobile web</td><td>Grade A</td><td> 1686361</td><td> 2280480</td><td>73.94763</td></tr>\n",
       "\t<tr><td>ca.wikipedia</td><td>mobile web</td><td>Grade A</td><td> 1186844</td><td> 1641460</td><td>72.30417</td></tr>\n",
       "\t<tr><td>hu.wikipedia</td><td>mobile web</td><td>Grade A</td><td> 6676539</td><td> 9277015</td><td>71.96861</td></tr>\n",
       "\t<tr><td>el.wikipedia</td><td>mobile web</td><td>Grade A</td><td> 3535879</td><td> 4923241</td><td>71.82015</td></tr>\n",
       "\t<tr><td>cs.wikipedia</td><td>mobile web</td><td>Grade A</td><td> 6800201</td><td> 9471317</td><td>71.79784</td></tr>\n",
       "\t<tr><td>pt.wikipedia</td><td>mobile web</td><td>Grade A</td><td>43511101</td><td>61053555</td><td>71.26710</td></tr>\n",
       "\t<tr><td>no.wikipedia</td><td>mobile web</td><td>Grade A</td><td> 2633465</td><td> 3703405</td><td>71.10929</td></tr>\n",
       "\t<tr><td>sl.wikipedia</td><td>mobile web</td><td>Grade A</td><td>  636746</td><td>  902258</td><td>70.57250</td></tr>\n",
       "\t<tr><td>he.wikipedia</td><td>mobile web</td><td>Grade A</td><td> 6233762</td><td> 8869646</td><td>70.28197</td></tr>\n",
       "\t<tr><td>lt.wikipedia</td><td>mobile web</td><td>Grade A</td><td> 1013316</td><td> 1453126</td><td>69.73353</td></tr>\n",
       "</tbody>\n",
       "</table>\n"
      ],
      "text/latex": [
       "A grouped\\_df: 10 × 6\n",
       "\\begin{tabular}{llllll}\n",
       " project & access\\_method & category & views & total\\_views & pct\\_views\\\\\n",
       " <chr> & <chr> & <chr> & <dbl> & <dbl> & <dbl>\\\\\n",
       "\\hline\n",
       "\t sk.wikipedia & mobile web & Grade A &  1686361 &  2280480 & 73.94763\\\\\n",
       "\t ca.wikipedia & mobile web & Grade A &  1186844 &  1641460 & 72.30417\\\\\n",
       "\t hu.wikipedia & mobile web & Grade A &  6676539 &  9277015 & 71.96861\\\\\n",
       "\t el.wikipedia & mobile web & Grade A &  3535879 &  4923241 & 71.82015\\\\\n",
       "\t cs.wikipedia & mobile web & Grade A &  6800201 &  9471317 & 71.79784\\\\\n",
       "\t pt.wikipedia & mobile web & Grade A & 43511101 & 61053555 & 71.26710\\\\\n",
       "\t no.wikipedia & mobile web & Grade A &  2633465 &  3703405 & 71.10929\\\\\n",
       "\t sl.wikipedia & mobile web & Grade A &   636746 &   902258 & 70.57250\\\\\n",
       "\t he.wikipedia & mobile web & Grade A &  6233762 &  8869646 & 70.28197\\\\\n",
       "\t lt.wikipedia & mobile web & Grade A &  1013316 &  1453126 & 69.73353\\\\\n",
       "\\end{tabular}\n"
      ],
      "text/markdown": [
       "\n",
       "A grouped_df: 10 × 6\n",
       "\n",
       "| project &lt;chr&gt; | access_method &lt;chr&gt; | category &lt;chr&gt; | views &lt;dbl&gt; | total_views &lt;dbl&gt; | pct_views &lt;dbl&gt; |\n",
       "|---|---|---|---|---|---|\n",
       "| sk.wikipedia | mobile web | Grade A |  1686361 |  2280480 | 73.94763 |\n",
       "| ca.wikipedia | mobile web | Grade A |  1186844 |  1641460 | 72.30417 |\n",
       "| hu.wikipedia | mobile web | Grade A |  6676539 |  9277015 | 71.96861 |\n",
       "| el.wikipedia | mobile web | Grade A |  3535879 |  4923241 | 71.82015 |\n",
       "| cs.wikipedia | mobile web | Grade A |  6800201 |  9471317 | 71.79784 |\n",
       "| pt.wikipedia | mobile web | Grade A | 43511101 | 61053555 | 71.26710 |\n",
       "| no.wikipedia | mobile web | Grade A |  2633465 |  3703405 | 71.10929 |\n",
       "| sl.wikipedia | mobile web | Grade A |   636746 |   902258 | 70.57250 |\n",
       "| he.wikipedia | mobile web | Grade A |  6233762 |  8869646 | 70.28197 |\n",
       "| lt.wikipedia | mobile web | Grade A |  1013316 |  1453126 | 69.73353 |\n",
       "\n"
      ],
      "text/plain": [
       "   project      access_method category views    total_views pct_views\n",
       "1  sk.wikipedia mobile web    Grade A   1686361  2280480    73.94763 \n",
       "2  ca.wikipedia mobile web    Grade A   1186844  1641460    72.30417 \n",
       "3  hu.wikipedia mobile web    Grade A   6676539  9277015    71.96861 \n",
       "4  el.wikipedia mobile web    Grade A   3535879  4923241    71.82015 \n",
       "5  cs.wikipedia mobile web    Grade A   6800201  9471317    71.79784 \n",
       "6  pt.wikipedia mobile web    Grade A  43511101 61053555    71.26710 \n",
       "7  no.wikipedia mobile web    Grade A   2633465  3703405    71.10929 \n",
       "8  sl.wikipedia mobile web    Grade A    636746   902258    70.57250 \n",
       "9  he.wikipedia mobile web    Grade A   6233762  8869646    70.28197 \n",
       "10 lt.wikipedia mobile web    Grade A   1013316  1453126    69.73353 "
      ]
     },
     "metadata": {},
     "output_type": "display_data"
    }
   ],
   "source": [
    "# Top Projects with highest traffic from Grade A Browsers on Mobile Web\n",
    "js_browsers_byproject_mobileweb <- pageviews_bybrowser %>%\n",
    "    filter(str_detect(project, \"wikipedia$\"),\n",
    "                     access_method == \"mobile web\") %>% #look at only mobile web and wikipedia.\n",
    "    mutate(category = ifelse(browser %in% grade_A_browsers, \"Grade A\", \"Below_A\")) %>%\n",
    "    group_by(project, access_method, category) %>%\n",
    "    summarize(views = sum(as.numeric(pageviews))) %>%\n",
    "    group_by(project, access_method) %>%\n",
    "    mutate(total_views = sum(views),\n",
    "           pct_views = views/total_views *100) %>%\n",
    "    filter(category == 'Grade A') %>%\n",
    "    arrange(desc(pct_views))\n",
    "    \n",
    "head(js_browsers_byproject_mobileweb, 10)"
   ]
  },
  {
   "cell_type": "code",
   "execution_count": 98,
   "metadata": {},
   "outputs": [],
   "source": [
    "### Wikipedia projects with lowest percent of overall traffic from Grade A Browsers on mobile web"
   ]
  },
  {
   "cell_type": "code",
   "execution_count": 97,
   "metadata": {},
   "outputs": [
    {
     "data": {
      "text/html": [
       "<table>\n",
       "<caption>A grouped_df: 10 × 6</caption>\n",
       "<thead>\n",
       "\t<tr><th scope=col>project</th><th scope=col>access_method</th><th scope=col>category</th><th scope=col>views</th><th scope=col>total_views</th><th scope=col>pct_views</th></tr>\n",
       "\t<tr><th scope=col>&lt;chr&gt;</th><th scope=col>&lt;chr&gt;</th><th scope=col>&lt;chr&gt;</th><th scope=col>&lt;dbl&gt;</th><th scope=col>&lt;dbl&gt;</th><th scope=col>&lt;dbl&gt;</th></tr>\n",
       "</thead>\n",
       "<tbody>\n",
       "\t<tr><td>ha.wikipedia </td><td>mobile web</td><td>Grade A</td><td>1402</td><td> 34956</td><td>4.0107564</td></tr>\n",
       "\t<tr><td>st.wikipedia </td><td>mobile web</td><td>Grade A</td><td> 149</td><td>  3921</td><td>3.8000510</td></tr>\n",
       "\t<tr><td>mus.wikipedia</td><td>mobile web</td><td>Grade A</td><td>  32</td><td>   867</td><td>3.6908881</td></tr>\n",
       "\t<tr><td>aa.wikipedia </td><td>mobile web</td><td>Grade A</td><td>  57</td><td>  1609</td><td>3.5425730</td></tr>\n",
       "\t<tr><td>hz.wikipedia </td><td>mobile web</td><td>Grade A</td><td>  20</td><td>   741</td><td>2.6990553</td></tr>\n",
       "\t<tr><td>ho.wikipedia </td><td>mobile web</td><td>Grade A</td><td>  20</td><td>   945</td><td>2.1164021</td></tr>\n",
       "\t<tr><td>cho.wikipedia</td><td>mobile web</td><td>Grade A</td><td>  14</td><td>   770</td><td>1.8181818</td></tr>\n",
       "\t<tr><td>kj.wikipedia </td><td>mobile web</td><td>Grade A</td><td>  15</td><td>  1058</td><td>1.4177694</td></tr>\n",
       "\t<tr><td>mh.wikipedia </td><td>mobile web</td><td>Grade A</td><td>   9</td><td>   747</td><td>1.2048193</td></tr>\n",
       "\t<tr><td>ig.wikipedia </td><td>mobile web</td><td>Grade A</td><td> 501</td><td>170627</td><td>0.2936229</td></tr>\n",
       "</tbody>\n",
       "</table>\n"
      ],
      "text/latex": [
       "A grouped\\_df: 10 × 6\n",
       "\\begin{tabular}{llllll}\n",
       " project & access\\_method & category & views & total\\_views & pct\\_views\\\\\n",
       " <chr> & <chr> & <chr> & <dbl> & <dbl> & <dbl>\\\\\n",
       "\\hline\n",
       "\t ha.wikipedia  & mobile web & Grade A & 1402 &  34956 & 4.0107564\\\\\n",
       "\t st.wikipedia  & mobile web & Grade A &  149 &   3921 & 3.8000510\\\\\n",
       "\t mus.wikipedia & mobile web & Grade A &   32 &    867 & 3.6908881\\\\\n",
       "\t aa.wikipedia  & mobile web & Grade A &   57 &   1609 & 3.5425730\\\\\n",
       "\t hz.wikipedia  & mobile web & Grade A &   20 &    741 & 2.6990553\\\\\n",
       "\t ho.wikipedia  & mobile web & Grade A &   20 &    945 & 2.1164021\\\\\n",
       "\t cho.wikipedia & mobile web & Grade A &   14 &    770 & 1.8181818\\\\\n",
       "\t kj.wikipedia  & mobile web & Grade A &   15 &   1058 & 1.4177694\\\\\n",
       "\t mh.wikipedia  & mobile web & Grade A &    9 &    747 & 1.2048193\\\\\n",
       "\t ig.wikipedia  & mobile web & Grade A &  501 & 170627 & 0.2936229\\\\\n",
       "\\end{tabular}\n"
      ],
      "text/markdown": [
       "\n",
       "A grouped_df: 10 × 6\n",
       "\n",
       "| project &lt;chr&gt; | access_method &lt;chr&gt; | category &lt;chr&gt; | views &lt;dbl&gt; | total_views &lt;dbl&gt; | pct_views &lt;dbl&gt; |\n",
       "|---|---|---|---|---|---|\n",
       "| ha.wikipedia  | mobile web | Grade A | 1402 |  34956 | 4.0107564 |\n",
       "| st.wikipedia  | mobile web | Grade A |  149 |   3921 | 3.8000510 |\n",
       "| mus.wikipedia | mobile web | Grade A |   32 |    867 | 3.6908881 |\n",
       "| aa.wikipedia  | mobile web | Grade A |   57 |   1609 | 3.5425730 |\n",
       "| hz.wikipedia  | mobile web | Grade A |   20 |    741 | 2.6990553 |\n",
       "| ho.wikipedia  | mobile web | Grade A |   20 |    945 | 2.1164021 |\n",
       "| cho.wikipedia | mobile web | Grade A |   14 |    770 | 1.8181818 |\n",
       "| kj.wikipedia  | mobile web | Grade A |   15 |   1058 | 1.4177694 |\n",
       "| mh.wikipedia  | mobile web | Grade A |    9 |    747 | 1.2048193 |\n",
       "| ig.wikipedia  | mobile web | Grade A |  501 | 170627 | 0.2936229 |\n",
       "\n"
      ],
      "text/plain": [
       "   project       access_method category views total_views pct_views\n",
       "1  ha.wikipedia  mobile web    Grade A  1402   34956      4.0107564\n",
       "2  st.wikipedia  mobile web    Grade A   149    3921      3.8000510\n",
       "3  mus.wikipedia mobile web    Grade A    32     867      3.6908881\n",
       "4  aa.wikipedia  mobile web    Grade A    57    1609      3.5425730\n",
       "5  hz.wikipedia  mobile web    Grade A    20     741      2.6990553\n",
       "6  ho.wikipedia  mobile web    Grade A    20     945      2.1164021\n",
       "7  cho.wikipedia mobile web    Grade A    14     770      1.8181818\n",
       "8  kj.wikipedia  mobile web    Grade A    15    1058      1.4177694\n",
       "9  mh.wikipedia  mobile web    Grade A     9     747      1.2048193\n",
       "10 ig.wikipedia  mobile web    Grade A   501  170627      0.2936229"
      ]
     },
     "metadata": {},
     "output_type": "display_data"
    }
   ],
   "source": [
    "tail(js_browsers_byproject_mobileweb, 10)"
   ]
  },
  {
   "cell_type": "markdown",
   "metadata": {},
   "source": [
    "Smaller and more more mid-size wikis had the highest percent of overall pageviews coming from Grade A Browsers on mobile web. Slovak (73.9%) and Catalan Wikipedia (72.3%) had the highest percent of pageviews from Grade A mobile web browesers."
   ]
  },
  {
   "cell_type": "markdown",
   "metadata": {},
   "source": [
    "# Non-JS Pageviews bia Browser General"
   ]
  },
  {
   "cell_type": "markdown",
   "metadata": {},
   "source": [
    "I reviewed the [browser general](https://wikitech.wikimedia.org/wiki/Analytics/Data_Lake/Traffic/Browser_general) table as well to confirm results were similar."
   ]
  },
  {
   "cell_type": "code",
   "execution_count": 64,
   "metadata": {},
   "outputs": [],
   "source": [
    "\n",
    "query <- \"\n",
    "SELECT\n",
    "   CONCAT(browser_family, '-', browser_major) AS browser,\n",
    "   access_method AS access_method,\n",
    "   SUM(view_count) AS pageviews\n",
    "FROM wmf.browser_general\n",
    "WHERE\n",
    "   access_method IN ('desktop', 'mobile web') AND\n",
    "   CONCAT(year, '-', LPAD(month, 2, '0'), '-', LPAD(day, 2, '0')) > '2020-05-23' AND\n",
    "   CONCAT(year, '-', LPAD(month, 2, '0'), '-', LPAD(day, 2, '0')) < '2020-05-31'\n",
    "GROUP BY\n",
    "   CONCAT(browser_family, '-', browser_major),\n",
    "   access_method\"\n"
   ]
  },
  {
   "cell_type": "code",
   "execution_count": 65,
   "metadata": {},
   "outputs": [],
   "source": [
    "pageviews_bybrowser_2 <- wmf::query_hive(query)"
   ]
  },
  {
   "cell_type": "code",
   "execution_count": 66,
   "metadata": {},
   "outputs": [
    {
     "data": {
      "text/html": [
       "<table>\n",
       "<caption>A data.frame: 6 × 3</caption>\n",
       "<thead>\n",
       "\t<tr><th></th><th scope=col>browser</th><th scope=col>access_method</th><th scope=col>pageviews</th></tr>\n",
       "\t<tr><th></th><th scope=col>&lt;chr&gt;</th><th scope=col>&lt;chr&gt;</th><th scope=col>&lt;int&gt;</th></tr>\n",
       "</thead>\n",
       "<tbody>\n",
       "\t<tr><th scope=row>1</th><td>Amazon Silk-81          </td><td>mobile web</td><td>3300607</td></tr>\n",
       "\t<tr><th scope=row>2</th><td>Apple Mail-605          </td><td>desktop   </td><td>6028864</td></tr>\n",
       "\t<tr><th scope=row>3</th><td>Chrome Mobile WebView-30</td><td>mobile web</td><td> 267919</td></tr>\n",
       "\t<tr><th scope=row>4</th><td>Chrome Mobile WebView-81</td><td>mobile web</td><td>8657806</td></tr>\n",
       "\t<tr><th scope=row>5</th><td>Chrome Mobile WebView-83</td><td>mobile web</td><td> 549165</td></tr>\n",
       "\t<tr><th scope=row>6</th><td>Chrome Mobile iOS-80    </td><td>mobile web</td><td>2679818</td></tr>\n",
       "</tbody>\n",
       "</table>\n"
      ],
      "text/latex": [
       "A data.frame: 6 × 3\n",
       "\\begin{tabular}{r|lll}\n",
       "  & browser & access\\_method & pageviews\\\\\n",
       "  & <chr> & <chr> & <int>\\\\\n",
       "\\hline\n",
       "\t1 & Amazon Silk-81           & mobile web & 3300607\\\\\n",
       "\t2 & Apple Mail-605           & desktop    & 6028864\\\\\n",
       "\t3 & Chrome Mobile WebView-30 & mobile web &  267919\\\\\n",
       "\t4 & Chrome Mobile WebView-81 & mobile web & 8657806\\\\\n",
       "\t5 & Chrome Mobile WebView-83 & mobile web &  549165\\\\\n",
       "\t6 & Chrome Mobile iOS-80     & mobile web & 2679818\\\\\n",
       "\\end{tabular}\n"
      ],
      "text/markdown": [
       "\n",
       "A data.frame: 6 × 3\n",
       "\n",
       "| <!--/--> | browser &lt;chr&gt; | access_method &lt;chr&gt; | pageviews &lt;int&gt; |\n",
       "|---|---|---|---|\n",
       "| 1 | Amazon Silk-81           | mobile web | 3300607 |\n",
       "| 2 | Apple Mail-605           | desktop    | 6028864 |\n",
       "| 3 | Chrome Mobile WebView-30 | mobile web |  267919 |\n",
       "| 4 | Chrome Mobile WebView-81 | mobile web | 8657806 |\n",
       "| 5 | Chrome Mobile WebView-83 | mobile web |  549165 |\n",
       "| 6 | Chrome Mobile iOS-80     | mobile web | 2679818 |\n",
       "\n"
      ],
      "text/plain": [
       "  browser                  access_method pageviews\n",
       "1 Amazon Silk-81           mobile web    3300607  \n",
       "2 Apple Mail-605           desktop       6028864  \n",
       "3 Chrome Mobile WebView-30 mobile web     267919  \n",
       "4 Chrome Mobile WebView-81 mobile web    8657806  \n",
       "5 Chrome Mobile WebView-83 mobile web     549165  \n",
       "6 Chrome Mobile iOS-80     mobile web    2679818  "
      ]
     },
     "metadata": {},
     "output_type": "display_data"
    }
   ],
   "source": [
    "head(pageviews_bybrowser_2)"
   ]
  },
  {
   "cell_type": "code",
   "execution_count": 70,
   "metadata": {},
   "outputs": [
    {
     "data": {
      "text/html": [
       "<table>\n",
       "<caption>A data.frame: 10 × 4</caption>\n",
       "<thead>\n",
       "\t<tr><th></th><th scope=col>browser</th><th scope=col>access_method</th><th scope=col>pageviews</th><th scope=col>pct_pageviews</th></tr>\n",
       "\t<tr><th></th><th scope=col>&lt;chr&gt;</th><th scope=col>&lt;chr&gt;</th><th scope=col>&lt;int&gt;</th><th scope=col>&lt;dbl&gt;</th></tr>\n",
       "</thead>\n",
       "<tbody>\n",
       "\t<tr><th scope=row>1</th><td>Mobile Safari-13    </td><td>mobile web</td><td>675730689</td><td>28.247707</td></tr>\n",
       "\t<tr><th scope=row>2</th><td>Chrome Mobile-81    </td><td>mobile web</td><td>652385535</td><td>27.271805</td></tr>\n",
       "\t<tr><th scope=row>3</th><td>Other--             </td><td>mobile web</td><td>232303503</td><td> 9.711031</td></tr>\n",
       "\t<tr><th scope=row>4</th><td>Chrome Mobile-83    </td><td>mobile web</td><td>151654709</td><td> 6.339653</td></tr>\n",
       "\t<tr><th scope=row>5</th><td>Samsung Internet-11 </td><td>mobile web</td><td>101690548</td><td> 4.250991</td></tr>\n",
       "\t<tr><th scope=row>6</th><td>Mobile Safari-12    </td><td>mobile web</td><td> 89135852</td><td> 3.726164</td></tr>\n",
       "\t<tr><th scope=row>7</th><td>Chrome Mobile-80    </td><td>mobile web</td><td> 75554341</td><td> 3.158413</td></tr>\n",
       "\t<tr><th scope=row>8</th><td>Google-107          </td><td>mobile web</td><td> 69718754</td><td> 2.914467</td></tr>\n",
       "\t<tr><th scope=row>9</th><td>Chrome Mobile iOS-81</td><td>mobile web</td><td> 59084509</td><td> 2.469922</td></tr>\n",
       "\t<tr><th scope=row>10</th><td>Chrome Mobile-38    </td><td>mobile web</td><td> 37870579</td><td> 1.583112</td></tr>\n",
       "</tbody>\n",
       "</table>\n"
      ],
      "text/latex": [
       "A data.frame: 10 × 4\n",
       "\\begin{tabular}{r|llll}\n",
       "  & browser & access\\_method & pageviews & pct\\_pageviews\\\\\n",
       "  & <chr> & <chr> & <int> & <dbl>\\\\\n",
       "\\hline\n",
       "\t1 & Mobile Safari-13     & mobile web & 675730689 & 28.247707\\\\\n",
       "\t2 & Chrome Mobile-81     & mobile web & 652385535 & 27.271805\\\\\n",
       "\t3 & Other--              & mobile web & 232303503 &  9.711031\\\\\n",
       "\t4 & Chrome Mobile-83     & mobile web & 151654709 &  6.339653\\\\\n",
       "\t5 & Samsung Internet-11  & mobile web & 101690548 &  4.250991\\\\\n",
       "\t6 & Mobile Safari-12     & mobile web &  89135852 &  3.726164\\\\\n",
       "\t7 & Chrome Mobile-80     & mobile web &  75554341 &  3.158413\\\\\n",
       "\t8 & Google-107           & mobile web &  69718754 &  2.914467\\\\\n",
       "\t9 & Chrome Mobile iOS-81 & mobile web &  59084509 &  2.469922\\\\\n",
       "\t10 & Chrome Mobile-38     & mobile web &  37870579 &  1.583112\\\\\n",
       "\\end{tabular}\n"
      ],
      "text/markdown": [
       "\n",
       "A data.frame: 10 × 4\n",
       "\n",
       "| <!--/--> | browser &lt;chr&gt; | access_method &lt;chr&gt; | pageviews &lt;int&gt; | pct_pageviews &lt;dbl&gt; |\n",
       "|---|---|---|---|---|\n",
       "| 1 | Mobile Safari-13     | mobile web | 675730689 | 28.247707 |\n",
       "| 2 | Chrome Mobile-81     | mobile web | 652385535 | 27.271805 |\n",
       "| 3 | Other--              | mobile web | 232303503 |  9.711031 |\n",
       "| 4 | Chrome Mobile-83     | mobile web | 151654709 |  6.339653 |\n",
       "| 5 | Samsung Internet-11  | mobile web | 101690548 |  4.250991 |\n",
       "| 6 | Mobile Safari-12     | mobile web |  89135852 |  3.726164 |\n",
       "| 7 | Chrome Mobile-80     | mobile web |  75554341 |  3.158413 |\n",
       "| 8 | Google-107           | mobile web |  69718754 |  2.914467 |\n",
       "| 9 | Chrome Mobile iOS-81 | mobile web |  59084509 |  2.469922 |\n",
       "| 10 | Chrome Mobile-38     | mobile web |  37870579 |  1.583112 |\n",
       "\n"
      ],
      "text/plain": [
       "   browser              access_method pageviews pct_pageviews\n",
       "1  Mobile Safari-13     mobile web    675730689 28.247707    \n",
       "2  Chrome Mobile-81     mobile web    652385535 27.271805    \n",
       "3  Other--              mobile web    232303503  9.711031    \n",
       "4  Chrome Mobile-83     mobile web    151654709  6.339653    \n",
       "5  Samsung Internet-11  mobile web    101690548  4.250991    \n",
       "6  Mobile Safari-12     mobile web     89135852  3.726164    \n",
       "7  Chrome Mobile-80     mobile web     75554341  3.158413    \n",
       "8  Google-107           mobile web     69718754  2.914467    \n",
       "9  Chrome Mobile iOS-81 mobile web     59084509  2.469922    \n",
       "10 Chrome Mobile-38     mobile web     37870579  1.583112    "
      ]
     },
     "metadata": {},
     "output_type": "display_data"
    }
   ],
   "source": [
    "percent_views <- pageviews_bybrowser_2 %>%\n",
    "    filter(access_method == 'mobile web') %>%\n",
    "    mutate(pct_pageviews = as.numeric(pageviews/sum(pageviews)) *100) %>%\n",
    "    arrange(desc(pct_pageviews))\n",
    "\n",
    "head(percent_views, 10)"
   ]
  },
  {
   "cell_type": "code",
   "execution_count": 105,
   "metadata": {},
   "outputs": [
    {
     "data": {
      "text/html": [
       "<table>\n",
       "<caption>A grouped_df: 4 × 4</caption>\n",
       "<thead>\n",
       "\t<tr><th scope=col>access_method</th><th scope=col>category</th><th scope=col>views</th><th scope=col>pct_pageviews</th></tr>\n",
       "\t<tr><th scope=col>&lt;chr&gt;</th><th scope=col>&lt;chr&gt;</th><th scope=col>&lt;dbl&gt;</th><th scope=col>&lt;dbl&gt;</th></tr>\n",
       "</thead>\n",
       "<tbody>\n",
       "\t<tr><td>desktop   </td><td>Below A</td><td> 225294343</td><td>15.21787</td></tr>\n",
       "\t<tr><td>desktop   </td><td>Grade A</td><td>1255164515</td><td>84.78213</td></tr>\n",
       "\t<tr><td>mobile web</td><td>Below A</td><td> 884848677</td><td>36.98951</td></tr>\n",
       "\t<tr><td>mobile web</td><td>Grade A</td><td>1507312513</td><td>63.01049</td></tr>\n",
       "</tbody>\n",
       "</table>\n"
      ],
      "text/latex": [
       "A grouped\\_df: 4 × 4\n",
       "\\begin{tabular}{llll}\n",
       " access\\_method & category & views & pct\\_pageviews\\\\\n",
       " <chr> & <chr> & <dbl> & <dbl>\\\\\n",
       "\\hline\n",
       "\t desktop    & Below A &  225294343 & 15.21787\\\\\n",
       "\t desktop    & Grade A & 1255164515 & 84.78213\\\\\n",
       "\t mobile web & Below A &  884848677 & 36.98951\\\\\n",
       "\t mobile web & Grade A & 1507312513 & 63.01049\\\\\n",
       "\\end{tabular}\n"
      ],
      "text/markdown": [
       "\n",
       "A grouped_df: 4 × 4\n",
       "\n",
       "| access_method &lt;chr&gt; | category &lt;chr&gt; | views &lt;dbl&gt; | pct_pageviews &lt;dbl&gt; |\n",
       "|---|---|---|---|\n",
       "| desktop    | Below A |  225294343 | 15.21787 |\n",
       "| desktop    | Grade A | 1255164515 | 84.78213 |\n",
       "| mobile web | Below A |  884848677 | 36.98951 |\n",
       "| mobile web | Grade A | 1507312513 | 63.01049 |\n",
       "\n"
      ],
      "text/plain": [
       "  access_method category views      pct_pageviews\n",
       "1 desktop       Below A   225294343 15.21787     \n",
       "2 desktop       Grade A  1255164515 84.78213     \n",
       "3 mobile web    Below A   884848677 36.98951     \n",
       "4 mobile web    Grade A  1507312513 63.01049     "
      ]
     },
     "metadata": {},
     "output_type": "display_data"
    }
   ],
   "source": [
    "js_pageviews <- pageviews_bybrowser_2 %>%\n",
    "    mutate(category = ifelse(browser %in% grade_A_browsers, \"Grade A\", \"Below A\")) %>%\n",
    "    group_by(access_method, category) %>%\n",
    "    summarize(views = sum(as.numeric(pageviews))) %>%\n",
    "    mutate(pct_pageviews = views/sum(views) *100)\n",
    "    \n",
    "js_pageviews "
   ]
  },
  {
   "cell_type": "markdown",
   "metadata": {},
   "source": [
    "The percentages are close to the data from pageview_hourly. "
   ]
  }
 ],
 "metadata": {
  "kernelspec": {
   "display_name": "R",
   "language": "R",
   "name": "ir"
  },
  "language_info": {
   "codemirror_mode": "r",
   "file_extension": ".r",
   "mimetype": "text/x-r-source",
   "name": "R",
   "pygments_lexer": "r",
   "version": "3.5.2"
  }
 },
 "nbformat": 4,
 "nbformat_minor": 4
}
